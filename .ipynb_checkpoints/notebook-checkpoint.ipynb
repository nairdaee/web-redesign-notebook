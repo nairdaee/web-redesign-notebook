{
 "cells": [
  {
   "cell_type": "markdown",
   "id": "9a9ada08-c9f0-466f-91a0-265fa539f9f5",
   "metadata": {},
   "source": [
    "# Measuring the impact of a website redesign the Bayesian way\n",
    "\n",
    "## 📖 Background\n",
    "You work for an early-stage startup in Germany. Your team has been working on a redesign of the landing page. The team believes a new design will increase the number of people who click through and join your site. \n",
    "\n",
    "They have been testing the changes for a few weeks and now they want to measure the impact of the change and need you to determine if the increase can be due to random chance or if it is statistically significant.\n",
    "\n",
    "![cover](cover.png)\n",
    "\n",
    "The figure above captures our result in a single picture. Do keep reading to understand it!"
   ]
  },
  {
   "cell_type": "markdown",
   "id": "10dcc269-3659-4851-99cd-f1ffb7f818aa",
   "metadata": {
    "tags": []
   },
   "source": [
    "## 💾 The data\n",
    "The team assembled the following file:\n",
    "\n",
    "#### Redesign test data\n",
    "- \"treatment\" - \"yes\" if the user saw the new version of the landing page, no otherwise.\n",
    "- \"new_images\" - \"yes\" if the page used a new set of images, no otherwise.\n",
    "- \"converted\" - 1 if the user joined the site, 0 otherwise.\n",
    "\n",
    "The control group is those users with \"no\" in both columns: the old version with the old set of images."
   ]
  },
  {
   "cell_type": "code",
   "execution_count": 1,
   "id": "c588d72b-b086-486e-9709-bb3382aa5695",
   "metadata": {},
   "outputs": [
    {
     "name": "stdout",
     "output_type": "stream",
     "text": [
      "ERROR: pip's dependency resolver does not currently take into account all the packages that are installed. This behaviour is the source of the following dependency conflicts.\n",
      "dc-workspace 1.0.0 requires jupytext, which is not installed.\n",
      "tensorflow 2.4.1 requires numpy~=1.19.2, but you have numpy 1.21.5 which is incompatible.\n",
      "tensorflow 2.4.1 requires six~=1.15.0, but you have six 1.16.0 which is incompatible.\n",
      "tensorflow 2.4.1 requires typing-extensions~=3.7.4, but you have typing-extensions 3.10.0.2 which is incompatible.\n",
      "google-auth 1.34.0 requires cachetools<5.0,>=2.0.0, but you have cachetools 5.0.0 which is incompatible.\n",
      "pythonwhat 2.23.1 requires dill~=0.2.7.1, but you have dill 0.3.4 which is incompatible.\n",
      "pythonwhat 2.23.1 requires jinja2~=2.10, but you have jinja2 3.0.1 which is incompatible.\n"
     ]
    }
   ],
   "source": [
    "# Ignore installation error messages below, this is all OK for our purposes.\n",
    "!pip -qqq --no-color install pymc3 'numpy>=1.15.0,<1.22.0'"
   ]
  },
  {
   "cell_type": "code",
   "execution_count": 2,
   "id": "8b30a43a-a42d-4164-b5a9-7d8b37b6c7bd",
   "metadata": {},
   "outputs": [
    {
     "name": "stderr",
     "output_type": "stream",
     "text": [
      "WARNING (theano.tensor.blas): Using NumPy C-API based implementation for BLAS functions.\n"
     ]
    },
    {
     "name": "stdout",
     "output_type": "stream",
     "text": [
      "Numpy version: 1.21.5\n",
      "PyMC3 version: 3.11.4\n"
     ]
    }
   ],
   "source": [
    "import pandas as pd\n",
    "import numpy as np\n",
    "import pymc3 as pm\n",
    "import scipy.stats as stats\n",
    "\n",
    "import seaborn as sns\n",
    "import matplotlib.pyplot as plt\n",
    "plt.style.use('bmh')\n",
    "# https://viscid-hub.github.io/Viscid-docs/docs/dev/styles/bmh.html\n",
    "BMH_COLORS = ['#348ABD', '#A60628', '#7A68A6', '#467821']\n",
    "\n",
    "np.random.seed(44)\n",
    "print('Numpy version:', np.__version__)\n",
    "print('PyMC3 version:', pm.__version__)"
   ]
  },
  {
   "cell_type": "code",
   "execution_count": 3,
   "id": "40251159-3eea-47f8-bfb4-09e38d5ced65",
   "metadata": {},
   "outputs": [
    {
     "data": {
      "text/html": [
       "<div>\n",
       "<style scoped>\n",
       "    .dataframe tbody tr th:only-of-type {\n",
       "        vertical-align: middle;\n",
       "    }\n",
       "\n",
       "    .dataframe tbody tr th {\n",
       "        vertical-align: top;\n",
       "    }\n",
       "\n",
       "    .dataframe thead th {\n",
       "        text-align: right;\n",
       "    }\n",
       "</style>\n",
       "<table border=\"1\" class=\"dataframe\">\n",
       "  <thead>\n",
       "    <tr style=\"text-align: right;\">\n",
       "      <th></th>\n",
       "      <th>treatment</th>\n",
       "      <th>new_images</th>\n",
       "      <th>converted</th>\n",
       "    </tr>\n",
       "  </thead>\n",
       "  <tbody>\n",
       "    <tr>\n",
       "      <th>0</th>\n",
       "      <td>yes</td>\n",
       "      <td>yes</td>\n",
       "      <td>0</td>\n",
       "    </tr>\n",
       "    <tr>\n",
       "      <th>1</th>\n",
       "      <td>yes</td>\n",
       "      <td>yes</td>\n",
       "      <td>0</td>\n",
       "    </tr>\n",
       "    <tr>\n",
       "      <th>2</th>\n",
       "      <td>yes</td>\n",
       "      <td>yes</td>\n",
       "      <td>0</td>\n",
       "    </tr>\n",
       "    <tr>\n",
       "      <th>3</th>\n",
       "      <td>yes</td>\n",
       "      <td>no</td>\n",
       "      <td>0</td>\n",
       "    </tr>\n",
       "    <tr>\n",
       "      <th>4</th>\n",
       "      <td>no</td>\n",
       "      <td>yes</td>\n",
       "      <td>0</td>\n",
       "    </tr>\n",
       "  </tbody>\n",
       "</table>\n",
       "</div>"
      ],
      "text/plain": [
       "  treatment new_images  converted\n",
       "0       yes        yes          0\n",
       "1       yes        yes          0\n",
       "2       yes        yes          0\n",
       "3       yes         no          0\n",
       "4        no        yes          0"
      ]
     },
     "execution_count": 3,
     "metadata": {},
     "output_type": "execute_result"
    }
   ],
   "source": [
    "df = pd.read_csv('./data/redesign.csv')\n",
    "df.head()"
   ]
  },
  {
   "cell_type": "markdown",
   "id": "1339020b-e458-4690-8d18-29dc0ce1bd52",
   "metadata": {},
   "source": [
    "We first verify that there are no missing values to ensure that our analysis is correct."
   ]
  },
  {
   "cell_type": "code",
   "execution_count": 4,
   "id": "e742cd02-f67a-45a6-a253-81e29326cc21",
   "metadata": {},
   "outputs": [
    {
     "data": {
      "text/plain": [
       "treatment     False\n",
       "new_images    False\n",
       "converted     False\n",
       "dtype: bool"
      ]
     },
     "execution_count": 4,
     "metadata": {},
     "output_type": "execute_result"
    }
   ],
   "source": [
    "df.isnull().any()"
   ]
  },
  {
   "cell_type": "markdown",
   "id": "3452f476-641f-4d9d-96d4-a1245313e88a",
   "metadata": {},
   "source": [
    "For convenience, we convert \"yes\" to a `1` and \"no\" to a `0` so that we can compute statistics."
   ]
  },
  {
   "cell_type": "code",
   "execution_count": 5,
   "id": "797aafc9-23c3-4d10-b302-aadb6a2bceef",
   "metadata": {},
   "outputs": [],
   "source": [
    "df['treatment'] = df.treatment.map({'yes': 1, 'no': 0})\n",
    "df['new_images'] = df.new_images.map({'yes': 1, 'no': 0})"
   ]
  },
  {
   "cell_type": "markdown",
   "id": "6c80e55c-d5b0-4ae6-82a6-f447fc6680c2",
   "metadata": {},
   "source": [
    "Looking at the summary statistics, we see that the dataset is balanced in every way, 50% of the dataset has a `treatment` and 50% does not; similarly for `new_images`. In fact, it is balanced across all four groups that we have:\n",
    "\n",
    "1. group $A$: has `treatment` and has `new_images`.\n",
    "2. group $B$: has `treatment`, but no `new_images`.\n",
    "3. group $C$: no `treatment`, but has `new_images`.\n",
    "4. the $\\mathrm{control}$ group: no `treatment` and no `new_images`.\n",
    "\n",
    "Also, observe that the conversion rate across all groups have a mean of 11.3% with a sample standard deviation of 31.7% (which is quite large!)."
   ]
  },
  {
   "cell_type": "code",
   "execution_count": 6,
   "id": "eabecd0a-be66-4941-af2a-4f116a90e073",
   "metadata": {},
   "outputs": [
    {
     "data": {
      "text/html": [
       "<div>\n",
       "<style scoped>\n",
       "    .dataframe tbody tr th:only-of-type {\n",
       "        vertical-align: middle;\n",
       "    }\n",
       "\n",
       "    .dataframe tbody tr th {\n",
       "        vertical-align: top;\n",
       "    }\n",
       "\n",
       "    .dataframe thead th {\n",
       "        text-align: right;\n",
       "    }\n",
       "</style>\n",
       "<table border=\"1\" class=\"dataframe\">\n",
       "  <thead>\n",
       "    <tr style=\"text-align: right;\">\n",
       "      <th></th>\n",
       "      <th>treatment</th>\n",
       "      <th>new_images</th>\n",
       "      <th>converted</th>\n",
       "    </tr>\n",
       "  </thead>\n",
       "  <tbody>\n",
       "    <tr>\n",
       "      <th>count</th>\n",
       "      <td>40484.000000</td>\n",
       "      <td>40484.000000</td>\n",
       "      <td>40484.000000</td>\n",
       "    </tr>\n",
       "    <tr>\n",
       "      <th>mean</th>\n",
       "      <td>0.500000</td>\n",
       "      <td>0.500000</td>\n",
       "      <td>0.113353</td>\n",
       "    </tr>\n",
       "    <tr>\n",
       "      <th>std</th>\n",
       "      <td>0.500006</td>\n",
       "      <td>0.500006</td>\n",
       "      <td>0.317028</td>\n",
       "    </tr>\n",
       "    <tr>\n",
       "      <th>min</th>\n",
       "      <td>0.000000</td>\n",
       "      <td>0.000000</td>\n",
       "      <td>0.000000</td>\n",
       "    </tr>\n",
       "    <tr>\n",
       "      <th>25%</th>\n",
       "      <td>0.000000</td>\n",
       "      <td>0.000000</td>\n",
       "      <td>0.000000</td>\n",
       "    </tr>\n",
       "    <tr>\n",
       "      <th>50%</th>\n",
       "      <td>0.500000</td>\n",
       "      <td>0.500000</td>\n",
       "      <td>0.000000</td>\n",
       "    </tr>\n",
       "    <tr>\n",
       "      <th>75%</th>\n",
       "      <td>1.000000</td>\n",
       "      <td>1.000000</td>\n",
       "      <td>0.000000</td>\n",
       "    </tr>\n",
       "    <tr>\n",
       "      <th>max</th>\n",
       "      <td>1.000000</td>\n",
       "      <td>1.000000</td>\n",
       "      <td>1.000000</td>\n",
       "    </tr>\n",
       "  </tbody>\n",
       "</table>\n",
       "</div>"
      ],
      "text/plain": [
       "          treatment    new_images     converted\n",
       "count  40484.000000  40484.000000  40484.000000\n",
       "mean       0.500000      0.500000      0.113353\n",
       "std        0.500006      0.500006      0.317028\n",
       "min        0.000000      0.000000      0.000000\n",
       "25%        0.000000      0.000000      0.000000\n",
       "50%        0.500000      0.500000      0.000000\n",
       "75%        1.000000      1.000000      0.000000\n",
       "max        1.000000      1.000000      1.000000"
      ]
     },
     "execution_count": 6,
     "metadata": {},
     "output_type": "execute_result"
    }
   ],
   "source": [
    "df.describe()"
   ]
  },
  {
   "cell_type": "code",
   "execution_count": 7,
   "id": "37113207-23fe-4b1a-b749-8d53c531684a",
   "metadata": {},
   "outputs": [
    {
     "name": "stdout",
     "output_type": "stream",
     "text": [
      "Size of each group: 10121\n"
     ]
    }
   ],
   "source": [
    "def grouping(row):\n",
    "    new_landing = row.treatment\n",
    "    new_images = row.new_images\n",
    "    if new_landing and new_images:\n",
    "        return 'A'\n",
    "    elif new_landing and not new_images:\n",
    "        return 'B'\n",
    "    elif not new_landing and new_images:\n",
    "        return 'C'\n",
    "    return 'control'\n",
    "\n",
    "df['group'] = df.apply(grouping, axis=1)\n",
    "\n",
    "assert (len(df[df.group == \"A\"]) \n",
    "        == len(df[df.group == \"B\"]) \n",
    "        == len(df[df.group == \"C\"]) \n",
    "        == len(df[df.group == \"control\"]))\n",
    "\n",
    "print(f'Size of each group: {len(df[df.group == \"A\"])}')"
   ]
  },
  {
   "cell_type": "markdown",
   "id": "cf9440a1-770a-454e-bdaa-e6dbbf02e1b5",
   "metadata": {},
   "source": [
    "## 1. Observables: analyzing the observed conversion rates for each group\n",
    "\n",
    "To get a first picture of the conversion rates of each group, we look at the following normalized countplot. Looking at the \"yes\"-es, we observe that all the test groups $A$, $B$, $C$ seems to improve over the control group. In particular, we see that group $B$ seems to improve the most since it has the highest \"yes\" to \"no\" ratio i.e. the highest conversion rate."
   ]
  },
  {
   "cell_type": "code",
   "execution_count": 8,
   "id": "d02b8ad4-d8fa-46a7-8dfd-5f11b83c0650",
   "metadata": {},
   "outputs": [
    {
     "data": {
      "image/png": "[encoded data removed]",
      "text/plain": [
       "<Figure size 720x504 with 1 Axes>"
      ]
     },
     "metadata": {
      "needs_background": "light"
     },
     "output_type": "display_data"
    }
   ],
   "source": [
    "_, ax = plt.subplots(figsize=(10, 7))\n",
    "\n",
    "conversion_count = (df.groupby(['group'])['converted']\n",
    "                    .value_counts(normalize=True)\n",
    "                    .rename('percentage')\n",
    "                    .reset_index())\n",
    "\n",
    "sns.barplot(data=conversion_count, x='converted', y='percentage', hue='group', ax=ax)\n",
    "\n",
    "ax.set_xlabel('Converted?')\n",
    "ax.set(xticklabels=['no', 'yes']);"
   ]
  },
  {
   "cell_type": "markdown",
   "id": "87b1888b-f128-472b-8379-0d84954d83d5",
   "metadata": {},
   "source": [
    "The actual numbers agree with our eye observation. Group $B$ has an observed conversion rate of 12% which is 1.3% more than 10.7%, the observed conversion rate of the control group. Group $A$ and group $C$ on the other hand have approximately a 0.7% and 0.6% increase in its observed conversion rate as compared to the control group's."
   ]
  },
  {
   "cell_type": "code",
   "execution_count": 9,
   "id": "dd1e93e4-46dc-4c32-9b1e-42caaa1d8ea1",
   "metadata": {},
   "outputs": [
    {
     "name": "stdout",
     "output_type": "stream",
     "text": [
      "Observed conversion rate\n",
      "---------------\n",
      "Group A: 0.114\n",
      "Group B: 0.120\n",
      "Group C: 0.113\n",
      "Group control: 0.107\n"
     ]
    }
   ],
   "source": [
    "GROUP_CONV_RATE = {}\n",
    "\n",
    "print('Observed conversion rate')\n",
    "for i in range(15):\n",
    "    print('-', end='')\n",
    "print()\n",
    "for group in df.group.unique():\n",
    "    conv_rate = df[df.group == group].converted.mean()\n",
    "    GROUP_CONV_RATE[group] = conv_rate\n",
    "    print(f'Group {group}: {conv_rate:.3f}')"
   ]
  },
  {
   "cell_type": "markdown",
   "id": "93c382ab-beff-4051-952b-67b594f82fcd",
   "metadata": {},
   "source": [
    "If you like pivot tables, we can also do that and get the same answer by recalling what the groups $A$, $B$, $C$ and $\\mathrm{control}$ means."
   ]
  },
  {
   "cell_type": "code",
   "execution_count": 10,
   "id": "5e712515-7ecf-4f93-9330-0689fe248294",
   "metadata": {},
   "outputs": [
    {
     "data": {
      "text/html": [
       "<div>\n",
       "<style scoped>\n",
       "    .dataframe tbody tr th:only-of-type {\n",
       "        vertical-align: middle;\n",
       "    }\n",
       "\n",
       "    .dataframe tbody tr th {\n",
       "        vertical-align: top;\n",
       "    }\n",
       "\n",
       "    .dataframe thead th {\n",
       "        text-align: right;\n",
       "    }\n",
       "</style>\n",
       "<table border=\"1\" class=\"dataframe\">\n",
       "  <thead>\n",
       "    <tr style=\"text-align: right;\">\n",
       "      <th>new_images</th>\n",
       "      <th>0</th>\n",
       "      <th>1</th>\n",
       "    </tr>\n",
       "    <tr>\n",
       "      <th>treatment</th>\n",
       "      <th></th>\n",
       "      <th></th>\n",
       "    </tr>\n",
       "  </thead>\n",
       "  <tbody>\n",
       "    <tr>\n",
       "      <th>0</th>\n",
       "      <td>0.107104</td>\n",
       "      <td>0.112538</td>\n",
       "    </tr>\n",
       "    <tr>\n",
       "      <th>1</th>\n",
       "      <td>0.120047</td>\n",
       "      <td>0.113724</td>\n",
       "    </tr>\n",
       "  </tbody>\n",
       "</table>\n",
       "</div>"
      ],
      "text/plain": [
       "new_images         0         1\n",
       "treatment                     \n",
       "0           0.107104  0.112538\n",
       "1           0.120047  0.113724"
      ]
     },
     "execution_count": 10,
     "metadata": {},
     "output_type": "execute_result"
    }
   ],
   "source": [
    "pd.pivot_table(df,\n",
    "               values='converted', \n",
    "               index=['treatment'], \n",
    "               columns=['new_images'],\n",
    "               aggfunc=np.mean)"
   ]
  },
  {
   "cell_type": "markdown",
   "id": "943e289f-fbac-4fff-9718-ad3b933472c8",
   "metadata": {},
   "source": [
    "## 2. Measuring success of redesign using Bayesian A/B testing\n",
    "\n",
    "We will use Bayesian inference to explain the increase in observed conversion rate of groups $A$, $B$, and $C$ since it has better explainability (among many other advantages) as compared to the frequentist approach using p-values. \n",
    "\n",
    "We first define a helper function `from_posterior` which helps us to update our \"prior\" since our dataset is quite large to do Bayesian inference on a small machine."
   ]
  },
  {
   "cell_type": "code",
   "execution_count": 11,
   "id": "b30cdd3d-e1f7-4093-9b8c-b6cf52fd5696",
   "metadata": {},
   "outputs": [],
   "source": [
    "from pymc3.distributions import Interpolated\n",
    "\n",
    "def from_posterior(param, samples):\n",
    "    \"\"\"https://docs.pymc.io/en/v3/pymc-examples/examples/pymc3_howto/updating_priors.html\"\"\"\n",
    "    smin, smax = np.min(samples), np.max(samples)\n",
    "    width = smax - smin\n",
    "    x = np.linspace(smin, smax, 100)\n",
    "    y = stats.gaussian_kde(samples)(x)\n",
    "\n",
    "    x = np.concatenate([[x[0] - 3 * width], x, [x[-1] + 3 * width]])\n",
    "    y = np.concatenate([[0], y, [0]])\n",
    "    return Interpolated(param, x, y)"
   ]
  },
  {
   "cell_type": "markdown",
   "id": "c825f4af-4fd3-4cc3-a404-6ff2148b3e82",
   "metadata": {},
   "source": [
    "Below, we extract the group `converted` observations which will be used for inference in the next section."
   ]
  },
  {
   "cell_type": "code",
   "execution_count": 12,
   "id": "aca29ff0-6ee1-4313-a3e3-40147941d3a9",
   "metadata": {},
   "outputs": [],
   "source": [
    "def prep_group_data(group_name):\n",
    "    return df[df.group == group_name].converted.to_numpy().reshape(-1, 1)\n",
    "\n",
    "group_data = {\n",
    "    'A': prep_group_data('A'),\n",
    "    'B': prep_group_data('B'),\n",
    "    'C': prep_group_data('C'),\n",
    "    'control': prep_group_data('control'),\n",
    "}"
   ]
  },
  {
   "cell_type": "markdown",
   "id": "0527dfd8-ce57-459c-82c2-2e0f39543744",
   "metadata": {},
   "source": [
    "### Thinking how our data is generated\n",
    "\n",
    "There are four unknown parameters to infer here – these are the conversion rates of the groups $A$, $B$, $C$, and $\\mathrm{control}$ which are probabilities between 0 and 1. We will label these conversion rates as $p_A$, $p_B$, $p_C$, and $p_{\\mathrm{control}}$ respectively. \n",
    "\n",
    "Since we do not have any prior belief on these conversion rates, we assume as a starting point that each of these conversion rates is equally likely over all possible values between 0 and 1. That is, for example, our current initial belief is that it is equally likely for $p_A$ to be 0.13 as it is to be 0.97 (these are just random numbers). In Bayesian lingo, this means that we assume a uniform prior over the interval $[0, 1]$ for each of these conversion rates. \n",
    "\n",
    "We then incorporate our observed conversion rate using a Bernoulli distribution conditioned on the prior conversion rates. This is where \"training\" happens if we think of Bayesian modelling as training a generic machine learning model. By incorporating observations, we are able to update our prior beliefs into a so-called posterior belief."
   ]
  },
  {
   "cell_type": "code",
   "execution_count": 13,
   "id": "c58e36fb-ee16-47f2-97c3-c18c9f663432",
   "metadata": {},
   "outputs": [],
   "source": [
    "def sample_posterior(data, batch_size=5000):\n",
    "    traces = []\n",
    "    for i in range(0, len(data), batch_size):\n",
    "        batch_data = data[i:i+batch_size]\n",
    "        model = pm.Model()\n",
    "        with model:\n",
    "            # Prior\n",
    "            if len(traces) == 0:\n",
    "                p = pm.Uniform('p', 0, 1)\n",
    "            else:\n",
    "                p = from_posterior('p', burned_trace['p'])\n",
    "            \n",
    "            # Likelihood\n",
    "            obs = pm.Bernoulli('obs', p, observed=batch_data)\n",
    "        \n",
    "            # Inference\n",
    "            trace = pm.sample(11000, step=pm.Metropolis())\n",
    "            burned_trace = trace[1000:]\n",
    "            traces.append(burned_trace)\n",
    "    return traces"
   ]
  },
  {
   "cell_type": "markdown",
   "id": "8affeb48-542a-400d-a229-d0457ffbbaa5",
   "metadata": {},
   "source": [
    "Using the Metropolis inference engine, we sample the posterior distribution of the conversion rates $p_A$, $p_B$, $p_C$ and $p_{\\mathrm{control}}$ which in probabilistic programming lingo is called *traces*."
   ]
  },
  {
   "cell_type": "code",
   "execution_count": 14,
   "id": "4cd92d86-83ff-43aa-944f-adf994ae990b",
   "metadata": {},
   "outputs": [
    {
     "data": {
      "text/html": [
       "\n",
       "    <div>\n",
       "        <style>\n",
       "            /* Turns off some styling */\n",
       "            progress {\n",
       "                /* gets rid of default border in Firefox and Opera. */\n",
       "                border: none;\n",
       "                /* Needs to be in here for Safari polyfill so background images work as expected. */\n",
       "                background-size: auto;\n",
       "            }\n",
       "            .progress-bar-interrupted, .progress-bar-interrupted::-webkit-progress-bar {\n",
       "                background: #F44336;\n",
       "            }\n",
       "        </style>\n",
       "      <progress value='48000' class='' max='48000' style='width:300px; height:20px; vertical-align: middle;'></progress>\n",
       "      100.00% [48000/48000 00:07<00:00 Sampling 4 chains, 0 divergences]\n",
       "    </div>\n",
       "    "
      ],
      "text/plain": [
       "<IPython.core.display.HTML object>"
      ]
     },
     "metadata": {},
     "output_type": "display_data"
    },
    {
     "data": {
      "text/html": [
       "\n",
       "    <div>\n",
       "        <style>\n",
       "            /* Turns off some styling */\n",
       "            progress {\n",
       "                /* gets rid of default border in Firefox and Opera. */\n",
       "                border: none;\n",
       "                /* Needs to be in here for Safari polyfill so background images work as expected. */\n",
       "                background-size: auto;\n",
       "            }\n",
       "            .progress-bar-interrupted, .progress-bar-interrupted::-webkit-progress-bar {\n",
       "                background: #F44336;\n",
       "            }\n",
       "        </style>\n",
       "      <progress value='48000' class='' max='48000' style='width:300px; height:20px; vertical-align: middle;'></progress>\n",
       "      100.00% [48000/48000 00:09<00:00 Sampling 4 chains, 0 divergences]\n",
       "    </div>\n",
       "    "
      ],
      "text/plain": [
       "<IPython.core.display.HTML object>"
      ]
     },
     "metadata": {},
     "output_type": "display_data"
    },
    {
     "data": {
      "text/html": [
       "\n",
       "    <div>\n",
       "        <style>\n",
       "            /* Turns off some styling */\n",
       "            progress {\n",
       "                /* gets rid of default border in Firefox and Opera. */\n",
       "                border: none;\n",
       "                /* Needs to be in here for Safari polyfill so background images work as expected. */\n",
       "                background-size: auto;\n",
       "            }\n",
       "            .progress-bar-interrupted, .progress-bar-interrupted::-webkit-progress-bar {\n",
       "                background: #F44336;\n",
       "            }\n",
       "        </style>\n",
       "      <progress value='48000' class='' max='48000' style='width:300px; height:20px; vertical-align: middle;'></progress>\n",
       "      100.00% [48000/48000 00:07<00:00 Sampling 4 chains, 0 divergences]\n",
       "    </div>\n",
       "    "
      ],
      "text/plain": [
       "<IPython.core.display.HTML object>"
      ]
     },
     "metadata": {},
     "output_type": "display_data"
    },
    {
     "data": {
      "text/html": [
       "\n",
       "    <div>\n",
       "        <style>\n",
       "            /* Turns off some styling */\n",
       "            progress {\n",
       "                /* gets rid of default border in Firefox and Opera. */\n",
       "                border: none;\n",
       "                /* Needs to be in here for Safari polyfill so background images work as expected. */\n",
       "                background-size: auto;\n",
       "            }\n",
       "            .progress-bar-interrupted, .progress-bar-interrupted::-webkit-progress-bar {\n",
       "                background: #F44336;\n",
       "            }\n",
       "        </style>\n",
       "      <progress value='48000' class='' max='48000' style='width:300px; height:20px; vertical-align: middle;'></progress>\n",
       "      100.00% [48000/48000 00:08<00:00 Sampling 4 chains, 0 divergences]\n",
       "    </div>\n",
       "    "
      ],
      "text/plain": [
       "<IPython.core.display.HTML object>"
      ]
     },
     "metadata": {},
     "output_type": "display_data"
    },
    {
     "data": {
      "text/html": [
       "\n",
       "    <div>\n",
       "        <style>\n",
       "            /* Turns off some styling */\n",
       "            progress {\n",
       "                /* gets rid of default border in Firefox and Opera. */\n",
       "                border: none;\n",
       "                /* Needs to be in here for Safari polyfill so background images work as expected. */\n",
       "                background-size: auto;\n",
       "            }\n",
       "            .progress-bar-interrupted, .progress-bar-interrupted::-webkit-progress-bar {\n",
       "                background: #F44336;\n",
       "            }\n",
       "        </style>\n",
       "      <progress value='48000' class='' max='48000' style='width:300px; height:20px; vertical-align: middle;'></progress>\n",
       "      100.00% [48000/48000 00:09<00:00 Sampling 4 chains, 0 divergences]\n",
       "    </div>\n",
       "    "
      ],
      "text/plain": [
       "<IPython.core.display.HTML object>"
      ]
     },
     "metadata": {},
     "output_type": "display_data"
    },
    {
     "data": {
      "text/html": [
       "\n",
       "    <div>\n",
       "        <style>\n",
       "            /* Turns off some styling */\n",
       "            progress {\n",
       "                /* gets rid of default border in Firefox and Opera. */\n",
       "                border: none;\n",
       "                /* Needs to be in here for Safari polyfill so background images work as expected. */\n",
       "                background-size: auto;\n",
       "            }\n",
       "            .progress-bar-interrupted, .progress-bar-interrupted::-webkit-progress-bar {\n",
       "                background: #F44336;\n",
       "            }\n",
       "        </style>\n",
       "      <progress value='48000' class='' max='48000' style='width:300px; height:20px; vertical-align: middle;'></progress>\n",
       "      100.00% [48000/48000 00:07<00:00 Sampling 4 chains, 0 divergences]\n",
       "    </div>\n",
       "    "
      ],
      "text/plain": [
       "<IPython.core.display.HTML object>"
      ]
     },
     "metadata": {},
     "output_type": "display_data"
    },
    {
     "data": {
      "text/html": [
       "\n",
       "    <div>\n",
       "        <style>\n",
       "            /* Turns off some styling */\n",
       "            progress {\n",
       "                /* gets rid of default border in Firefox and Opera. */\n",
       "                border: none;\n",
       "                /* Needs to be in here for Safari polyfill so background images work as expected. */\n",
       "                background-size: auto;\n",
       "            }\n",
       "            .progress-bar-interrupted, .progress-bar-interrupted::-webkit-progress-bar {\n",
       "                background: #F44336;\n",
       "            }\n",
       "        </style>\n",
       "      <progress value='48000' class='' max='48000' style='width:300px; height:20px; vertical-align: middle;'></progress>\n",
       "      100.00% [48000/48000 00:07<00:00 Sampling 4 chains, 0 divergences]\n",
       "    </div>\n",
       "    "
      ],
      "text/plain": [
       "<IPython.core.display.HTML object>"
      ]
     },
     "metadata": {},
     "output_type": "display_data"
    },
    {
     "data": {
      "text/html": [
       "\n",
       "    <div>\n",
       "        <style>\n",
       "            /* Turns off some styling */\n",
       "            progress {\n",
       "                /* gets rid of default border in Firefox and Opera. */\n",
       "                border: none;\n",
       "                /* Needs to be in here for Safari polyfill so background images work as expected. */\n",
       "                background-size: auto;\n",
       "            }\n",
       "            .progress-bar-interrupted, .progress-bar-interrupted::-webkit-progress-bar {\n",
       "                background: #F44336;\n",
       "            }\n",
       "        </style>\n",
       "      <progress value='48000' class='' max='48000' style='width:300px; height:20px; vertical-align: middle;'></progress>\n",
       "      100.00% [48000/48000 00:09<00:00 Sampling 4 chains, 0 divergences]\n",
       "    </div>\n",
       "    "
      ],
      "text/plain": [
       "<IPython.core.display.HTML object>"
      ]
     },
     "metadata": {},
     "output_type": "display_data"
    },
    {
     "data": {
      "text/html": [
       "\n",
       "    <div>\n",
       "        <style>\n",
       "            /* Turns off some styling */\n",
       "            progress {\n",
       "                /* gets rid of default border in Firefox and Opera. */\n",
       "                border: none;\n",
       "                /* Needs to be in here for Safari polyfill so background images work as expected. */\n",
       "                background-size: auto;\n",
       "            }\n",
       "            .progress-bar-interrupted, .progress-bar-interrupted::-webkit-progress-bar {\n",
       "                background: #F44336;\n",
       "            }\n",
       "        </style>\n",
       "      <progress value='48000' class='' max='48000' style='width:300px; height:20px; vertical-align: middle;'></progress>\n",
       "      100.00% [48000/48000 00:07<00:00 Sampling 4 chains, 0 divergences]\n",
       "    </div>\n",
       "    "
      ],
      "text/plain": [
       "<IPython.core.display.HTML object>"
      ]
     },
     "metadata": {},
     "output_type": "display_data"
    },
    {
     "data": {
      "text/html": [
       "\n",
       "    <div>\n",
       "        <style>\n",
       "            /* Turns off some styling */\n",
       "            progress {\n",
       "                /* gets rid of default border in Firefox and Opera. */\n",
       "                border: none;\n",
       "                /* Needs to be in here for Safari polyfill so background images work as expected. */\n",
       "                background-size: auto;\n",
       "            }\n",
       "            .progress-bar-interrupted, .progress-bar-interrupted::-webkit-progress-bar {\n",
       "                background: #F44336;\n",
       "            }\n",
       "        </style>\n",
       "      <progress value='48000' class='' max='48000' style='width:300px; height:20px; vertical-align: middle;'></progress>\n",
       "      100.00% [48000/48000 00:08<00:00 Sampling 4 chains, 0 divergences]\n",
       "    </div>\n",
       "    "
      ],
      "text/plain": [
       "<IPython.core.display.HTML object>"
      ]
     },
     "metadata": {},
     "output_type": "display_data"
    },
    {
     "data": {
      "text/html": [
       "\n",
       "    <div>\n",
       "        <style>\n",
       "            /* Turns off some styling */\n",
       "            progress {\n",
       "                /* gets rid of default border in Firefox and Opera. */\n",
       "                border: none;\n",
       "                /* Needs to be in here for Safari polyfill so background images work as expected. */\n",
       "                background-size: auto;\n",
       "            }\n",
       "            .progress-bar-interrupted, .progress-bar-interrupted::-webkit-progress-bar {\n",
       "                background: #F44336;\n",
       "            }\n",
       "        </style>\n",
       "      <progress value='48000' class='' max='48000' style='width:300px; height:20px; vertical-align: middle;'></progress>\n",
       "      100.00% [48000/48000 00:09<00:00 Sampling 4 chains, 0 divergences]\n",
       "    </div>\n",
       "    "
      ],
      "text/plain": [
       "<IPython.core.display.HTML object>"
      ]
     },
     "metadata": {},
     "output_type": "display_data"
    },
    {
     "data": {
      "text/html": [
       "\n",
       "    <div>\n",
       "        <style>\n",
       "            /* Turns off some styling */\n",
       "            progress {\n",
       "                /* gets rid of default border in Firefox and Opera. */\n",
       "                border: none;\n",
       "                /* Needs to be in here for Safari polyfill so background images work as expected. */\n",
       "                background-size: auto;\n",
       "            }\n",
       "            .progress-bar-interrupted, .progress-bar-interrupted::-webkit-progress-bar {\n",
       "                background: #F44336;\n",
       "            }\n",
       "        </style>\n",
       "      <progress value='48000' class='' max='48000' style='width:300px; height:20px; vertical-align: middle;'></progress>\n",
       "      100.00% [48000/48000 00:06<00:00 Sampling 4 chains, 0 divergences]\n",
       "    </div>\n",
       "    "
      ],
      "text/plain": [
       "<IPython.core.display.HTML object>"
      ]
     },
     "metadata": {},
     "output_type": "display_data"
    }
   ],
   "source": [
    "import logging\n",
    "logger = logging.getLogger('pymc3')\n",
    "logger.setLevel(logging.ERROR)\n",
    "\n",
    "traces_A = sample_posterior(group_data['A'])\n",
    "traces_B = sample_posterior(group_data['B'])\n",
    "traces_C = sample_posterior(group_data['C'])\n",
    "traces_control = sample_posterior(group_data['control'])"
   ]
  },
  {
   "cell_type": "code",
   "execution_count": 15,
   "id": "cfd66f5b-dc2b-41ef-9693-68ca4c6060e4",
   "metadata": {},
   "outputs": [],
   "source": [
    "def final_samples(trace):\n",
    "    return trace[-1]['p']\n",
    "\n",
    "final_trace = {\n",
    "    'A': final_samples(traces_A),\n",
    "    'B': final_samples(traces_B),\n",
    "    'C': final_samples(traces_C),\n",
    "    'control': final_samples(traces_control),\n",
    "}"
   ]
  },
  {
   "cell_type": "markdown",
   "id": "66affd4d-aee4-4155-9227-7c3d233dfd5e",
   "metadata": {},
   "source": [
    "We plot the posterior distribution of the four conversion rates we wanted to infer:"
   ]
  },
  {
   "cell_type": "code",
   "execution_count": 16,
   "id": "91fddcf5-4d9a-4916-9058-044f3c251ef1",
   "metadata": {},
   "outputs": [
    {
     "data": {
      "image/png": "[encoded data removed]",
      "text/plain": [
       "<Figure size 720x720 with 4 Axes>"
      ]
     },
     "metadata": {
      "needs_background": "light"
     },
     "output_type": "display_data"
    }
   ],
   "source": [
    "_, ax = plt.subplots(4, 1, figsize=(10, 10))\n",
    "\n",
    "ax[0].set_title('Posterior distributions of conversion rates $p_A$, $p_B$, $p_C$ and $p_{\\mathrm{control}}$')\n",
    "\n",
    "for i, group in enumerate(df.group.unique()):\n",
    "    ax[i].set_xlim(0.08, 0.15)\n",
    "    \n",
    "    group_final_trace = final_trace[group]\n",
    "    label = 'posterior of $p_{\\mathrm{' + f'{group}' + '}}$'\n",
    "    ax[i].hist(group_final_trace, \n",
    "               histtype='stepfilled',\n",
    "               bins=100, alpha=0.85, density=True, \n",
    "               label=label, color=BMH_COLORS[i])\n",
    "    ax[i].vlines(group_final_trace.mean(), 0, 150, color='black', linestyle='--', label='mean')\n",
    "    ax[i].legend()\n",
    "\n",
    "plt.show()"
   ]
  },
  {
   "cell_type": "markdown",
   "id": "896d4403-bc6d-4acd-99d1-4d7f548dc8d6",
   "metadata": {},
   "source": [
    "To see it more clearly, we plot the difference $\\Delta_A$ (respectively $\\Delta_B$, $\\Delta_C$) between the posterior of the test group $A$ (respectively $B$, $C$) and the posterior of the control group."
   ]
  },
  {
   "cell_type": "code",
   "execution_count": 17,
   "id": "c8727945-a234-40ec-b418-19a1c6f7b6a4",
   "metadata": {},
   "outputs": [
    {
     "data": {
      "image/png": "[encoded data removed]",
      "text/plain": [
       "<Figure size 720x720 with 3 Axes>"
      ]
     },
     "metadata": {
      "needs_background": "light"
     },
     "output_type": "display_data"
    }
   ],
   "source": [
    "_, ax = plt.subplots(3, 1, figsize=(10, 10))\n",
    "\n",
    "ax[0].set_title('Posterior distributions of conversion rate differences $\\Delta_A$, $\\Delta_B$, $\\Delta_C$')\n",
    "\n",
    "for i, group in enumerate(['A', 'B', 'C']):\n",
    "    ax[i].set_xlim(-0.02, 0.04)\n",
    "    \n",
    "    group_delta_trace = final_trace[group] - final_trace['control']\n",
    "    label = f'posterior of $\\Delta_{group}$'\n",
    "    ax[i].hist(group_delta_trace, \n",
    "               histtype='stepfilled',\n",
    "               bins=100, alpha=0.85, density=True, \n",
    "               label=label, color=BMH_COLORS[i])\n",
    "    ax[i].vlines(group_delta_trace.mean(), 0, 150, color='black', linestyle='--', label='mean')\n",
    "    ax[i].vlines(0, 0, 150, color='black', alpha=0.2)\n",
    "    ax[i].legend()\n",
    "\n",
    "plt.show()"
   ]
  },
  {
   "cell_type": "markdown",
   "id": "e06ae5e2-f0fe-4ed2-aa24-1a7c152f0624",
   "metadata": {},
   "source": [
    "Based on the posterior distributions of conversion rate differences $\\Delta_A$, $\\Delta_B$, $\\Delta_C$, we observe that most of the distribution lies above 0. This implies that each group $A$, $B$ and $C$ is more likely to have a higher conversion rate than the control group. That is, the corresponding website version of groups $A$, $B$ and $C$ respectively are all major improvements over the current version. However, it should be obvious that there's a clear winner: group $B$ seems to be most likely to have a higher conversion rate than the control. \n",
    "\n",
    "The actual probabilities of the group are computed below:"
   ]
  },
  {
   "cell_type": "code",
   "execution_count": 18,
   "id": "83491fd0-a52d-49e5-b78e-80585bf53ba1",
   "metadata": {},
   "outputs": [
    {
     "name": "stdout",
     "output_type": "stream",
     "text": [
      "Probability that user group A has higher conversion rate than control: 0.932\n",
      "Probability that user group B has higher conversion rate than control: 0.991\n",
      "Probability that user group C has higher conversion rate than control: 0.900\n"
     ]
    }
   ],
   "source": [
    "for group in ['A', 'B', 'C']:\n",
    "    print('Probability that user group {0} has higher conversion rate than control: {1:.3f}'\\\n",
    "          .format(group, ((final_trace[group] - final_trace['control']) > 0).mean()))"
   ]
  },
  {
   "cell_type": "markdown",
   "id": "141ad908-a8a8-463b-90d9-9dfec205cd87",
   "metadata": {},
   "source": [
    "### Conclusion\n",
    "\n",
    "The probabilities agree with our observation and discussion. In fact, we have a more granular observation.\n",
    "\n",
    "Group $B$ with approximately 0.99 probability is the most likely to have a higher conversion rate than the control. Now group $A$ has a probability of 0.93 which is higher than the probability of group $C$ of 0.9. So it is more likely that user group $A$ has a higher conversion rate than the control, as compared to group $C$. This establishes a hierarchy of website redesign performance as follows:\n",
    "\n",
    "$B$ is best peforming, followed by $A$, and then lastly $C$."
   ]
  },
  {
   "cell_type": "markdown",
   "id": "3af8aeec-c116-4e4e-be1b-27194796a1fa",
   "metadata": {
    "toc-hr-collapsed": true
   },
   "source": [
    "## 3. Fresh new landing page, but same good ol' images is the way to go\n",
    "\n",
    "Recall what the group $A$, $B$ and $C$ means:\n",
    "\n",
    "- user group $A$: saw the **new** version of the **landing page**, with **new set of images**.\n",
    "- user group $B$: saw the **new** version of the **landing page**, with **old set of images**. \n",
    "- user group $C$: saw the **old** version of the **landing page**, with **new set of images**.\n",
    "- $\\mathrm{control}$ user group: saw the **old** version of **both landing page and set of images**.\n",
    "\n",
    "So our conclusion from the previous section suggested that there is a hierarchy of website redesign performance like so:\n",
    "\n",
    "1. **Best performing**: use the new landing page, but keep the old set of images;\n",
    "2. **Second best**: use both the new landing page and new set of images;\n",
    "3. **Third best**: use the new set of images, but keep the old landing page.\n",
    "\n",
    "And each of them have more than 90% probability of being better than just using the old landing page and old set of images! So we only have a 10% chance of being wrong if we choose any of them, which is quite a small risk already."
   ]
  },
  {
   "cell_type": "markdown",
   "id": "8da5e2fd-e3a9-4252-b3c2-1be3958b2253",
   "metadata": {},
   "source": [
    "### Conclusion\n",
    "\n",
    "But if we need to choose one, just redesign the website using the **new landing page** but maintain the **old set of images**. In this case, we only have a 1% chance of being wrong, a very very tiny risk."
   ]
  }
 ],
 "metadata": {
  "kernelspec": {
   "display_name": "Python 3 (ipykernel)",
   "language": "python",
   "name": "python3"
  },
  "language_info": {
   "codemirror_mode": {
    "name": "ipython",
    "version": 3
   },
   "file_extension": ".py",
   "mimetype": "text/x-python",
   "name": "python",
   "nbconvert_exporter": "python",
   "pygments_lexer": "ipython3",
   "version": "3.8.10"
  }
 },
 "nbformat": 4,
 "nbformat_minor": 5
}
